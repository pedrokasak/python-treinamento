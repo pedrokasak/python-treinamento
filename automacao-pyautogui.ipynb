{
    "cells": [
        {
            "cell_type": "code",
            "execution_count": null,
            "source": [
                "import pyautogui\r\n",
                "import time\r\n",
                "\r\n",
                "\r\n",
                "pyautogui.alert(\"O Código já vai Começar, Aguarde alguns instantes\")\r\n",
                "pyautogui.PAUSE = 0.5\r\n",
                "\r\n",
                "#abrir o google drive em meu computador\r\n",
                "py"
            ],
            "outputs": [],
            "metadata": {}
        }
    ],
    "metadata": {
        "orig_nbformat": 4,
        "language_info": {
            "name": "python"
        }
    },
    "nbformat": 4,
    "nbformat_minor": 2
}