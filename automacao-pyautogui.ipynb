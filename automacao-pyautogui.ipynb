{
    "cells": [
        {
            "cell_type": "code",
            "execution_count": 14,
            "source": [
                "import pyautogui\r\n",
                "import time\r\n",
                "\r\n",
                "\r\n",
                "pyautogui.alert(\"O Código já vai Começar, Aguarde alguns instantes\")\r\n",
                "pyautogui.PAUSE = 1.0\r\n",
                "\r\n",
                "#abrir o google drive em meu computador\r\n",
                "pyautogui.press('winleft')\r\n",
                "pyautogui.write('chrome')\r\n",
                "pyautogui.press('enter')\r\n",
                "time.sleep(2)\r\n",
                "\r\n",
                "pyautogui.write(\"https://drive.google.com/drive/my-drive\")\r\n",
                "pyautogui.press('enter')\r\n",
                "\r\n",
                "#entrar na miha área de trabalho\r\n",
                "pyautogui.hotkey('winleft','d')\r\n",
                "pyautogui.moveTo(1860,236)\r\n",
                "pyautogui.mouseDown()\r\n",
                "pyautogui.moveTo(1157,574)\r\n",
                "pyautogui.hotkey('alt','tab')\r\n",
                "time.sleep(2)\r\n",
                "pyautogui.mouseUp()\r\n",
                "time.sleep(2)\r\n",
                "\r\n",
                "pyautogui.hotkey('winleft','d')\r\n",
                "pyautogui.alert(\"A Automação Acabou pode voltar a fidar o bot\")\r\n",
                "\r\n"
            ],
            "outputs": [
                {
                    "output_type": "execute_result",
                    "data": {
                        "text/plain": [
                            "'OK'"
                        ]
                    },
                    "metadata": {},
                    "execution_count": 14
                }
            ],
            "metadata": {}
        },
        {
            "cell_type": "code",
            "execution_count": 11,
            "source": [
                "pyautogui.position()"
            ],
            "outputs": [
                {
                    "output_type": "execute_result",
                    "data": {
                        "text/plain": [
                            "Point(x=1157, y=574)"
                        ]
                    },
                    "metadata": {},
                    "execution_count": 11
                }
            ],
            "metadata": {}
        }
    ],
    "metadata": {
        "orig_nbformat": 4,
        "language_info": {
            "name": "python",
            "version": "3.8.8",
            "mimetype": "text/x-python",
            "codemirror_mode": {
                "name": "ipython",
                "version": 3
            },
            "pygments_lexer": "ipython3",
            "nbconvert_exporter": "python",
            "file_extension": ".py"
        },
        "kernelspec": {
            "name": "python3",
            "display_name": "Python 3.8.8 64-bit ('base': conda)"
        },
        "interpreter": {
            "hash": "74ab7c6ffe6706754a8af46cc4d18eebe476c74ce21a19282f620e1b1e9919fe"
        }
    },
    "nbformat": 4,
    "nbformat_minor": 2
}