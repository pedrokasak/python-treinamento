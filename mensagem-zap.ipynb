{
    "cells": [
        {
            "cell_type": "code",
            "execution_count": 13,
            "source": [
                "import pandas as pd\r\n",
                "from selenium import webdriver\r\n",
                "from selenium.webdriver.common.keys import Keys\r\n",
                "import time\r\n",
                "import urllib\r\n",
                "\r\n",
                "contatos = pd.read_excel(\"Enviar.xlsx\")\r\n",
                "display(contatos)\r\n",
                "navegador = webdriver.Chrome()\r\n",
                "navegador.get(\"https://web.whatsapp.com/\")\r\n",
                "\r\n",
                "while len(navegador.find_elements_by_id(\"side\")) < 1 :\r\n",
                "    time.sleep(1)\r\n",
                "\r\n",
                "for i, mensagem in enumerate(contatos['Mensagem']) :\r\n",
                "   pessoa = contatos.loc[i,\"Pessoa\"]\r\n",
                "   numero = contatos.loc[i,\"Número\"]\r\n",
                "   texto  = urllib.parse.quote(f\"Oi {pessoa}! {mensagem}\")\r\n",
                "   link = f\"https://web.whatsapp.com/send?=phone{numero}&text={texto}\"\r\n",
                "   navegador.get(link)\r\n",
                "\r\n",
                "   while len(navegador.find_elements_by_id(\"side\")) < 1 :\r\n",
                "    time.sleep(1)\r\n",
                "    navegador.find_element_by_xpath('//*[@id=\"main\"]/footer/div[1]/div[2]/div/div[1]/div/div[2]').send_keys(Keys.ENTER)\r\n",
                "    time.sleep(10)"
            ],
            "outputs": [
                {
                    "output_type": "display_data",
                    "data": {
                        "text/plain": [
                            "  Pessoa         Número              Mensagem\n",
                            "0   Amor  5522999774554  Eu te amo meu amorrr"
                        ],
                        "text/html": [
                            "<div>\n",
                            "<style scoped>\n",
                            "    .dataframe tbody tr th:only-of-type {\n",
                            "        vertical-align: middle;\n",
                            "    }\n",
                            "\n",
                            "    .dataframe tbody tr th {\n",
                            "        vertical-align: top;\n",
                            "    }\n",
                            "\n",
                            "    .dataframe thead th {\n",
                            "        text-align: right;\n",
                            "    }\n",
                            "</style>\n",
                            "<table border=\"1\" class=\"dataframe\">\n",
                            "  <thead>\n",
                            "    <tr style=\"text-align: right;\">\n",
                            "      <th></th>\n",
                            "      <th>Pessoa</th>\n",
                            "      <th>Número</th>\n",
                            "      <th>Mensagem</th>\n",
                            "    </tr>\n",
                            "  </thead>\n",
                            "  <tbody>\n",
                            "    <tr>\n",
                            "      <th>0</th>\n",
                            "      <td>Amor</td>\n",
                            "      <td>5522999774554</td>\n",
                            "      <td>Eu te amo meu amorrr</td>\n",
                            "    </tr>\n",
                            "  </tbody>\n",
                            "</table>\n",
                            "</div>"
                        ]
                    },
                    "metadata": {}
                }
            ],
            "metadata": {}
        }
    ],
    "metadata": {
        "orig_nbformat": 4,
        "language_info": {
            "name": "python",
            "version": "3.8.8",
            "mimetype": "text/x-python",
            "codemirror_mode": {
                "name": "ipython",
                "version": 3
            },
            "pygments_lexer": "ipython3",
            "nbconvert_exporter": "python",
            "file_extension": ".py"
        },
        "kernelspec": {
            "name": "python3",
            "display_name": "Python 3.8.8 64-bit ('base': conda)"
        },
        "interpreter": {
            "hash": "74ab7c6ffe6706754a8af46cc4d18eebe476c74ce21a19282f620e1b1e9919fe"
        }
    },
    "nbformat": 4,
    "nbformat_minor": 2
}