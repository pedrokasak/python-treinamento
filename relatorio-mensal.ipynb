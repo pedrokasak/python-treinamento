{
    "cells": [
        {
            "cell_type": "code",
            "execution_count": 1,
            "source": [
                "import pandas as pd\r\n",
                "import win32com.client as win32\r\n",
                "\r\n",
                "#Envios de emails por smtp\r\n",
                "import smtplib\r\n",
                "from email.mime.multipart import MIMEMultipart\r\n",
                "from email.mime.text import MIMEText\r\n",
                "\r\n",
                "# importar a base de dados\r\n",
                "tabela_vendas = pd.read_excel('Vendas.xlsx')\r\n",
                "email_senha  = pd.read_excel('email.xlsx')\r\n",
                "#display(email_senha)\r\n",
                "\r\n",
                "# visualizar a base de dados completa\r\n",
                "pd.set_option('display.max_columns', None)\r\n",
                "#print(tabela_vendas)\r\n",
                "\r\n",
                "# faturamento por loja\r\n",
                "faturamento = tabela_vendas[['ID Loja', 'Valor Final']].groupby('ID Loja').sum()\r\n",
                "#print(faturamento)\r\n",
                "\r\n",
                "# quantidade de produtos vendidos por loja\r\n",
                "quantidade = tabela_vendas[['ID Loja', 'Quantidade']].groupby('ID Loja').sum()\r\n",
                "#print(quantidade)\r\n",
                "\r\n",
                "print('-' * 50)\r\n",
                "# ticket médio por produto em cada loja\r\n",
                "ticket_medio = (faturamento['Valor Final'] / quantidade['Quantidade']).to_frame()\r\n",
                "ticket_medio = ticket_medio.rename(columns={0: 'Ticket Médio'})\r\n",
                "print(ticket_medio)\r\n",
                "\r\n",
                "# enviar um email com o relatório\r\n",
                "outlook = win32.Dispatch('outlook.application')\r\n",
                "mail = outlook.CreateItem(0)\r\n",
                "mail.To = 'pedrohesm@gmail.com'\r\n",
                "mail.Subject = 'Relatório de Vendas por Loja'\r\n",
                "mail.HTMLBody = f'''\r\n",
                "<p>Prezados,</p>\r\n",
                "\r\n",
                "<p>Segue o Relatório de Vendas por cada Loja.</p>\r\n",
                "\r\n",
                "<p>Faturamento:</p>\r\n",
                "{faturamento.to_html(formatters={'Valor Final': 'R${:,.2f}'.format})}\r\n",
                "\r\n",
                "<p>Quantidade Vendida:</p>\r\n",
                "{quantidade.to_html()}\r\n",
                "\r\n",
                "<p>Ticket Médio dos Produtos em cada Loja:</p>\r\n",
                "{ticket_medio.to_html(formatters={'Ticket Médio': 'R${:,.2f}'.format})}\r\n",
                "\r\n",
                "<p>Qualquer dúvida estou à disposição.</p>\r\n",
                "\r\n",
                "<p>Att.,</p>\r\n",
                "<p>Pedro Henrique</p>\r\n",
                "'''\r\n",
                "print('Email Enviado')\r\n",
                "mail.Send()\r\n",
                "\r\n",
                "\r\n"
            ],
            "outputs": [],
            "metadata": {}
        }
    ],
    "metadata": {
        "orig_nbformat": 4,
        "language_info": {
            "name": "python",
            "version": "3.8.8",
            "mimetype": "text/x-python",
            "codemirror_mode": {
                "name": "ipython",
                "version": 3
            },
            "pygments_lexer": "ipython3",
            "nbconvert_exporter": "python",
            "file_extension": ".py"
        },
        "kernelspec": {
            "name": "python3",
            "display_name": "Python 3.8.8 64-bit ('base': conda)"
        },
        "interpreter": {
            "hash": "74ab7c6ffe6706754a8af46cc4d18eebe476c74ce21a19282f620e1b1e9919fe"
        }
    },
    "nbformat": 4,
    "nbformat_minor": 2
}