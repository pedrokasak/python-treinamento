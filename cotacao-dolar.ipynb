{
    "cells": [
        {
            "cell_type": "code",
            "execution_count": 13,
            "source": [
                "import requests\r\n",
                "from tkinter import *\r\n",
                "\r\n",
                "def pegar_cotacao():\r\n",
                "    req = requests.get(\"https://economia.awesomeapi.com.br/last/USD-BRL,EUR-BRL,BTC-BRL\")\r\n",
                "    req_dic = req.json()\r\n",
                "\r\n",
                "    cotacao_dolar = req_dic['USDBRL']['bid']\r\n",
                "    cotacao_euro = req_dic['EURBRL']['bid']\r\n",
                "    cotacao_btc = req_dic['BTCBRL']['bid']\r\n",
                "\r\n",
                "    texto = f'''\r\n",
                "    Dólar: {cotacao_dolar}\r\n",
                "    Euro: {cotacao_euro}\r\n",
                "    BiTCoin: {cotacao_btc} '''\r\n",
                " \r\n",
                "    texto_cotacao[\"text\"] = texto\r\n",
                "\r\n",
                "#Iterface gráfica com TKinter\r\n",
                "janela = Tk()\r\n",
                "janela.title(\"Cotação Atual das Moedas\")\r\n",
                "janela.geometry(\"400x200\")\r\n",
                "\r\n",
                "texto_orientacao = Label(janela,text=\"Clique no botão para ver as cotações das moedas\")\r\n",
                "texto_orientacao.grid(column=0,row=0, padx=10,pady=10)\r\n",
                "\r\n",
                "botao = Button(janela,text=\"Buscar Cotações\",command=pegar_cotacao)\r\n",
                "botao.grid(column=0,row=1,padx=10,pady=10)\r\n",
                "\r\n",
                "texto_cotacao = Label(janela,text=\"\")\r\n",
                "texto_cotacao.grid(column=0,row=2,padx=10,pady=10)\r\n",
                "\r\n",
                "janela.mainloop()"
            ],
            "outputs": [],
            "metadata": {}
        }
    ],
    "metadata": {
        "orig_nbformat": 4,
        "language_info": {
            "name": "python",
            "version": "3.8.8",
            "mimetype": "text/x-python",
            "codemirror_mode": {
                "name": "ipython",
                "version": 3
            },
            "pygments_lexer": "ipython3",
            "nbconvert_exporter": "python",
            "file_extension": ".py"
        },
        "kernelspec": {
            "name": "python3",
            "display_name": "Python 3.8.8 64-bit ('base': conda)"
        },
        "interpreter": {
            "hash": "74ab7c6ffe6706754a8af46cc4d18eebe476c74ce21a19282f620e1b1e9919fe"
        }
    },
    "nbformat": 4,
    "nbformat_minor": 2
}